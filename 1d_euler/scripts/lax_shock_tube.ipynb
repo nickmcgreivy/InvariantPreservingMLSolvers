{
 "cells": [
  {
   "cell_type": "code",
   "execution_count": null,
   "id": "02022f35",
   "metadata": {},
   "outputs": [],
   "source": [
    "# setup paths\n",
    "import sys\n",
    "basedir = '/Users/nickm/thesis/icml2023paper/1d_euler'\n",
    "readwritedir = '/Users/nickm/thesis/icml2023paper/1d_euler'\n",
    "\n",
    "sys.path.append('{}/core'.format(basedir))\n",
    "sys.path.append('{}/simulate'.format(basedir))\n",
    "sys.path.append('{}/ml'.format(basedir))"
   ]
  },
  {
   "cell_type": "code",
   "execution_count": null,
   "id": "55da58f6",
   "metadata": {},
   "outputs": [],
   "source": [
    "# import external packages\n",
    "import jax\n",
    "import jax.numpy as jnp\n",
    "import numpy as onp\n",
    "from jax import config, vmap\n",
    "config.update(\"jax_enable_x64\", True)\n",
    "import xarray\n",
    "import seaborn as sns\n",
    "import matplotlib.pyplot as plt"
   ]
  },
  {
   "cell_type": "code",
   "execution_count": null,
   "id": "69f67f26",
   "metadata": {},
   "outputs": [],
   "source": [
    "from initialconditions import get_a0, f_init_lax_shock_tube, shock_tube_problem_1, shock_tube_problem_2, shock_tube_problem_3, shock_tube_problem_4, shock_tube_problem_5, shock_tube_problem_6, shock_tube_problem_7, shock_tube_problem_8\n",
    "from simparams import CoreParams, SimulationParams\n",
    "from simulations import ShockTubeSim\n",
    "from helper import get_rho, get_u, get_p, get_c\n",
    "from trajectory import get_trajectory_fn, get_inner_fn"
   ]
  },
  {
   "cell_type": "code",
   "execution_count": null,
   "id": "189c389d",
   "metadata": {},
   "outputs": [],
   "source": [
    "def get_core_params(Lx = 1.0, gamma = 5/3, bc = 'periodic', fluxstr = 'laxfriedrichs'):\n",
    "    return CoreParams(Lx, gamma, bc, fluxstr)\n",
    "\n",
    "\n",
    "def get_sim_params(name = \"test\", cfl_safety=0.3, rk='ssp_rk3'):\n",
    "    return SimulationParams(name, basedir, readwritedir, cfl_safety, rk)\n",
    "\n",
    "\n",
    "def plot_a(a, core_params, mins = [0.0 - 2e-2] * 3, maxs= [1.0 + 5e-2] * 3):\n",
    "    x = jnp.linspace(0.0, core_params.Lx, a.shape[1])\n",
    "    \n",
    "    fig, axs = plt.subplots(1, 3, figsize=(11, 3))\n",
    "    axs[0].plot(x, get_rho(a, core_params))\n",
    "    axs[0].set_title(r'$\\rho$')\n",
    "    axs[0].set_ylim([mins[0], maxs[0]])\n",
    "    \n",
    "    axs[1].plot(x, get_u(a, core_params))\n",
    "    axs[1].set_title(r'$u$')\n",
    "    axs[1].set_ylim([mins[1], maxs[1]])\n",
    "    \n",
    "    axs[2].plot(x, get_p(a, core_params))\n",
    "    axs[2].set_title(r'$p$')\n",
    "    axs[2].set_ylim([mins[2], maxs[2]])\n",
    "\n",
    "def plot_ac(a, core_params, mins = [0.0 - 2e-2] * 3, maxs= [1.0 + 5e-2] * 3):\n",
    "    x = jnp.linspace(0.0, core_params.Lx, a.shape[1])\n",
    "    \n",
    "    fig, axs = plt.subplots(1, 4, figsize=(11, 3))\n",
    "    axs[0].plot(x, get_rho(a, core_params))\n",
    "    axs[0].set_title(r'$\\rho$')\n",
    "    axs[0].set_ylim([mins[0], maxs[0]])\n",
    "    \n",
    "    axs[1].plot(x, get_u(a, core_params))\n",
    "    axs[1].set_title(r'$u$')\n",
    "    axs[1].set_ylim([mins[1], maxs[1]])\n",
    "    \n",
    "    axs[2].plot(x, get_p(a, core_params))\n",
    "    axs[2].set_title(r'$p$')\n",
    "    axs[2].set_ylim([mins[2], maxs[2]])\n",
    "    \n",
    "    axs[3].plot(x, get_c(a, core_params))\n",
    "    axs[3].set_title(r'$c$')\n",
    "    axs[3].set_ylim([mins[1], maxs[1]])\n",
    "\n",
    "def plot_trajectory(trajectory, core_params, mins = [0.0 - 2e-2] * 3, maxs= [1.0 + 5e-2] * 3):\n",
    "    nx = trajectory.shape[2]\n",
    "    xs = jnp.arange(nx) * core_params.Lx / nx\n",
    "    xs = xs.T.reshape(-1)\n",
    "    coords = {\n",
    "        'x': xs,\n",
    "        'time': t_inner * jnp.arange(outer_steps)\n",
    "    }\n",
    "    rhos = trajectory[:, 0, :]\n",
    "    xarray.DataArray(rhos, dims=[\"time\", \"x\"], coords=coords).plot(\n",
    "        col='time', col_wrap=5)\n",
    "\n",
    "    us = trajectory[:, 1, :] / trajectory[:, 0, :]\n",
    "    xarray.DataArray(us, dims=[\"time\", \"x\"], coords=coords).plot(\n",
    "        col='time', col_wrap=5)\n",
    "\n",
    "    ps = (core_params.gamma - 1) * (trajectory[:, 2, :] - 0.5 * trajectory[:, 1, :]**2 / trajectory[:, 0, :])\n",
    "    xarray.DataArray(ps, dims=[\"time\", \"x\"], coords=coords).plot(\n",
    "        col='time', col_wrap=5)"
   ]
  },
  {
   "cell_type": "markdown",
   "id": "1dab1c6d",
   "metadata": {},
   "source": [
    "### Shock Tube Problem 1\n",
    "\n",
    "JE2: http://ammar-hakim.org/sj/je/je2/je2-euler-shock.html"
   ]
  },
  {
   "cell_type": "code",
   "execution_count": null,
   "id": "e8aedc62",
   "metadata": {},
   "outputs": [],
   "source": [
    "kwargs_core_params = {'Lx': 1.0, 'gamma': 1.4, 'bc': 'ghost', 'fluxstr': 'musclcharacteristic'}\n",
    "kwargs_sim = {'name' : \"test_euler\", 'cfl_safety' : 0.2, 'rk' : 'ssp_rk3'}\n",
    "\n",
    "core_params = get_core_params(**kwargs_core_params)\n",
    "sim_params = get_sim_params(**kwargs_sim)\n",
    "sim = ShockTubeSim(core_params, sim_params)\n",
    "\n",
    "nx = 200\n",
    "f_init = shock_tube_problem_1(core_params)\n",
    "a0 = get_a0(f_init, core_params, nx)\n",
    "\n",
    "# simulate for some time\n",
    "t_inner = 0.05\n",
    "outer_steps = 5\n",
    "\n",
    "inner_fn = get_inner_fn(sim.step_fn, sim.dt_fn, t_inner)\n",
    "trajectory_fn = get_trajectory_fn(inner_fn, outer_steps)\n",
    "trajectory = trajectory_fn(a0)"
   ]
  },
  {
   "cell_type": "code",
   "execution_count": null,
   "id": "c571517b",
   "metadata": {},
   "outputs": [],
   "source": [
    "maxs = [1.1, 1.5, 1.1]\n",
    "plot_ac(a0, core_params, maxs=maxs)\n",
    "plot_ac(trajectory[4], core_params, maxs=maxs)"
   ]
  },
  {
   "cell_type": "markdown",
   "id": "b42a33c6",
   "metadata": {},
   "source": [
    "### Problem 2\n",
    "\n",
    "http://ammar-hakim.org/sj/je/je2/je2-euler-shock.html\n",
    "\n",
    "MUSCL gives NaNs for this problem."
   ]
  },
  {
   "cell_type": "code",
   "execution_count": null,
   "id": "6be31372",
   "metadata": {},
   "outputs": [],
   "source": [
    "kwargs_core_params = {'Lx': 1.0, 'gamma': 1.4, 'bc': 'ghost', 'fluxstr': 'muscl'}\n",
    "kwargs_sim = {'name' : \"test_euler\", 'cfl_safety' : 0.1, 'rk' : 'ssp_rk3'}\n",
    "\n",
    "core_params = get_core_params(**kwargs_core_params)\n",
    "sim_params = get_sim_params(**kwargs_sim)\n",
    "sim = ShockTubeSim(core_params, sim_params)\n",
    "\n",
    "nx = 100\n",
    "f_init = shock_tube_problem_2(core_params)\n",
    "a0 = get_a0(f_init, core_params, nx)\n",
    "\n",
    "# simulate for some time\n",
    "t_inner = 0.0015\n",
    "outer_steps = 10\n",
    "\n",
    "inner_fn = get_inner_fn(sim.step_fn, sim.dt_fn, t_inner)\n",
    "trajectory_fn = get_trajectory_fn(inner_fn, outer_steps)\n",
    "trajectory = trajectory_fn(a0)"
   ]
  },
  {
   "cell_type": "code",
   "execution_count": null,
   "id": "0d5fca0e",
   "metadata": {},
   "outputs": [],
   "source": [
    "maxs = [1.1, 2.1, 0.5]\n",
    "mins = [-0.05, -2.1, -0.05]\n",
    "plot_a(a0, core_params, maxs=maxs, mins=mins)\n",
    "plot_a(trajectory[1], core_params, maxs=maxs, mins=mins)"
   ]
  },
  {
   "cell_type": "markdown",
   "id": "8508b7bf",
   "metadata": {},
   "source": [
    "### Problem 3\n",
    "\n",
    "The 1D Noh problem. MUSCL gives NaNs once again."
   ]
  },
  {
   "cell_type": "code",
   "execution_count": null,
   "id": "1f65f280",
   "metadata": {},
   "outputs": [],
   "source": [
    "kwargs_core_params = {'Lx': 1.0, 'gamma': 5/3, 'bc': 'ghost', 'fluxstr': 'muscl'}\n",
    "kwargs_sim = {'name' : \"test_euler\", 'cfl_safety' : 0.2, 'rk' : 'ssp_rk3'}\n",
    "\n",
    "core_params = get_core_params(**kwargs_core_params)\n",
    "sim_params = get_sim_params(**kwargs_sim)\n",
    "sim = ShockTubeSim(core_params, sim_params)\n",
    "\n",
    "nx = 100\n",
    "f_init = shock_tube_problem_3(core_params)\n",
    "a0 = get_a0(f_init, core_params, nx)\n",
    "\n",
    "# simulate for some time\n",
    "t_inner = 1.0\n",
    "outer_steps = 2\n",
    "\n",
    "inner_fn = get_inner_fn(sim.step_fn, sim.dt_fn, t_inner)\n",
    "trajectory_fn = get_trajectory_fn(inner_fn, outer_steps)\n",
    "trajectory = trajectory_fn(a0)"
   ]
  },
  {
   "cell_type": "code",
   "execution_count": null,
   "id": "7ee1f82a",
   "metadata": {},
   "outputs": [],
   "source": [
    "maxs = [1.1, 1.5, 1.1]\n",
    "plot_a(a0, core_params, maxs=maxs)\n",
    "plot_a(trajectory[-1], core_params, maxs=maxs)"
   ]
  },
  {
   "cell_type": "markdown",
   "id": "24126ecb",
   "metadata": {},
   "source": [
    "### Problem 4\n",
    "\n",
    "MUSCL fails on this problem."
   ]
  },
  {
   "cell_type": "code",
   "execution_count": null,
   "id": "57c295a0",
   "metadata": {},
   "outputs": [],
   "source": [
    "kwargs_core_params = {'Lx': 1.0, 'gamma': 1.4, 'bc': 'ghost', 'fluxstr': 'muscl'}\n",
    "kwargs_sim = {'name' : \"test_euler\", 'cfl_safety' : 0.2, 'rk' : 'ssp_rk3'}\n",
    "\n",
    "core_params = get_core_params(**kwargs_core_params)\n",
    "sim_params = get_sim_params(**kwargs_sim)\n",
    "sim = ShockTubeSim(core_params, sim_params)\n",
    "\n",
    "nx = 100\n",
    "f_init = shock_tube_problem_4(core_params)\n",
    "a0 = get_a0(f_init, core_params, nx)\n",
    "\n",
    "# simulate for some time\n",
    "t_inner = 0.012\n",
    "outer_steps = 2\n",
    "\n",
    "inner_fn = get_inner_fn(sim.step_fn, sim.dt_fn, t_inner)\n",
    "trajectory_fn = get_trajectory_fn(inner_fn, outer_steps)\n",
    "trajectory = trajectory_fn(a0)"
   ]
  },
  {
   "cell_type": "code",
   "execution_count": null,
   "id": "75655f9e",
   "metadata": {},
   "outputs": [],
   "source": [
    "maxs = [1.1, 1.5, 1.1]\n",
    "plot_a(a0, core_params, maxs=maxs)\n",
    "plot_a(trajectory[-1], core_params, maxs=maxs)"
   ]
  },
  {
   "cell_type": "markdown",
   "id": "198e859b",
   "metadata": {},
   "source": [
    "### Problem 5"
   ]
  },
  {
   "cell_type": "code",
   "execution_count": null,
   "id": "37357430",
   "metadata": {},
   "outputs": [],
   "source": [
    "kwargs_core_params = {'Lx': 1.0, 'gamma': 1.4, 'bc': 'ghost', 'fluxstr': 'muscl'}\n",
    "kwargs_sim = {'name' : \"test_euler\", 'cfl_safety' : 0.2, 'rk' : 'ssp_rk3'}\n",
    "\n",
    "core_params = get_core_params(**kwargs_core_params)\n",
    "sim_params = get_sim_params(**kwargs_sim)\n",
    "sim = ShockTubeSim(core_params, sim_params)\n",
    "\n",
    "nx = 100\n",
    "f_init = shock_tube_problem_5(core_params)\n",
    "a0 = get_a0(f_init, core_params, nx)\n",
    "\n",
    "# simulate for some time\n",
    "t_inner = 0.035\n",
    "outer_steps = 2\n",
    "\n",
    "inner_fn = get_inner_fn(sim.step_fn, sim.dt_fn, t_inner)\n",
    "trajectory_fn = get_trajectory_fn(inner_fn, outer_steps)\n",
    "trajectory = trajectory_fn(a0)"
   ]
  },
  {
   "cell_type": "code",
   "execution_count": null,
   "id": "254c48f9",
   "metadata": {},
   "outputs": [],
   "source": [
    "maxs = [35.0, 20.5, 1800.0]\n",
    "mins = [-1.0, -10.0, -1.0]\n",
    "plot_a(a0, core_params, maxs=maxs, mins=mins)\n",
    "plot_a(trajectory[-1], core_params, maxs=maxs, mins=mins)"
   ]
  },
  {
   "cell_type": "markdown",
   "id": "457b7eb6",
   "metadata": {},
   "source": [
    "### Problem 6"
   ]
  },
  {
   "cell_type": "code",
   "execution_count": null,
   "id": "dd46eeca",
   "metadata": {},
   "outputs": [],
   "source": [
    "kwargs_core_params = {'Lx': 1.0, 'gamma': 1.4, 'bc': 'ghost', 'fluxstr': 'muscl'}\n",
    "kwargs_sim = {'name' : \"test_euler\", 'cfl_safety' : 0.2, 'rk' : 'ssp_rk3'}\n",
    "\n",
    "core_params = get_core_params(**kwargs_core_params)\n",
    "sim_params = get_sim_params(**kwargs_sim)\n",
    "sim = ShockTubeSim(core_params, sim_params)\n",
    "\n",
    "nx = 100\n",
    "f_init = shock_tube_problem_6(core_params)\n",
    "a0 = get_a0(f_init, core_params, nx)\n",
    "\n",
    "# simulate for some time\n",
    "t_inner = 1.0\n",
    "outer_steps = 3\n",
    "\n",
    "inner_fn = get_inner_fn(sim.step_fn, sim.dt_fn, t_inner)\n",
    "trajectory_fn = get_trajectory_fn(inner_fn, outer_steps)\n",
    "trajectory = trajectory_fn(a0)"
   ]
  },
  {
   "cell_type": "code",
   "execution_count": null,
   "id": "75617f72",
   "metadata": {},
   "outputs": [],
   "source": [
    "maxs = [1.5, 1.5, 1.1]\n",
    "plot_a(a0, core_params, maxs=maxs)\n",
    "plot_a(trajectory[-1], core_params, maxs=maxs)"
   ]
  },
  {
   "cell_type": "markdown",
   "id": "5c639a59",
   "metadata": {},
   "source": [
    "### Problem 7: Density Propagation"
   ]
  },
  {
   "cell_type": "code",
   "execution_count": null,
   "id": "c484ed72",
   "metadata": {},
   "outputs": [],
   "source": [
    "kwargs_core_params = {'Lx': 1.0, 'gamma': 1.4, 'bc': 'periodic', 'fluxstr': 'muscl'}\n",
    "kwargs_sim = {'name' : \"test_euler\", 'cfl_safety' : 0.2, 'rk' : 'ssp_rk3'}\n",
    "\n",
    "core_params = get_core_params(**kwargs_core_params)\n",
    "sim_params = get_sim_params(**kwargs_sim)\n",
    "sim = ShockTubeSim(core_params, sim_params)\n",
    "\n",
    "nx = 100\n",
    "f_init = shock_tube_problem_7(core_params)\n",
    "a0 = get_a0(f_init, core_params, nx)\n",
    "\n",
    "# simulate for some time\n",
    "t_inner = 1.0\n",
    "outer_steps = 3\n",
    "\n",
    "inner_fn = get_inner_fn(sim.step_fn, sim.dt_fn, t_inner)\n",
    "trajectory_fn = get_trajectory_fn(inner_fn, outer_steps)\n",
    "trajectory = trajectory_fn(a0)"
   ]
  },
  {
   "cell_type": "code",
   "execution_count": null,
   "id": "efbb0d17",
   "metadata": {},
   "outputs": [],
   "source": [
    "maxs = [1.5, 1.5, 1.1]\n",
    "plot_a(a0, core_params, maxs=maxs)\n",
    "plot_a(trajectory[-1], core_params, maxs=maxs)"
   ]
  },
  {
   "cell_type": "markdown",
   "id": "453fa2fc",
   "metadata": {},
   "source": [
    "### Problem 8\n",
    "\n",
    "MUSCL fails (NaNs)"
   ]
  },
  {
   "cell_type": "code",
   "execution_count": null,
   "id": "d25bd74c",
   "metadata": {},
   "outputs": [],
   "source": [
    "kwargs_core_params = {'Lx': 1.0, 'gamma': 1.4, 'bc': 'ghost', 'fluxstr': 'muscl'}\n",
    "kwargs_sim = {'name' : \"test_euler\", 'cfl_safety' : 0.2, 'rk' : 'ssp_rk3'}\n",
    "\n",
    "core_params = get_core_params(**kwargs_core_params)\n",
    "sim_params = get_sim_params(**kwargs_sim)\n",
    "sim = ShockTubeSim(core_params, sim_params)\n",
    "\n",
    "nx = 800\n",
    "f_init = shock_tube_problem_8(core_params)\n",
    "a0 = get_a0(f_init, core_params, nx)\n",
    "\n",
    "# simulate for some time\n",
    "t_inner = 0.0039\n",
    "outer_steps = 2\n",
    "\n",
    "inner_fn = get_inner_fn(sim.step_fn, sim.dt_fn, t_inner)\n",
    "trajectory_fn = get_trajectory_fn(inner_fn, outer_steps)\n",
    "trajectory = trajectory_fn(a0)"
   ]
  },
  {
   "cell_type": "code",
   "execution_count": null,
   "id": "2a563a14",
   "metadata": {},
   "outputs": [],
   "source": [
    "maxs = [40.0, 14.0, 800.0]\n",
    "plot_a(a0, core_params, maxs=maxs)\n",
    "plot_a(trajectory[-1], core_params, maxs=maxs)"
   ]
  },
  {
   "cell_type": "code",
   "execution_count": null,
   "id": "2e9c6f97",
   "metadata": {},
   "outputs": [],
   "source": []
  }
 ],
 "metadata": {
  "kernelspec": {
   "display_name": "Python 3 (ipykernel)",
   "language": "python",
   "name": "python3"
  },
  "language_info": {
   "codemirror_mode": {
    "name": "ipython",
    "version": 3
   },
   "file_extension": ".py",
   "mimetype": "text/x-python",
   "name": "python",
   "nbconvert_exporter": "python",
   "pygments_lexer": "ipython3",
   "version": "3.7.13"
  }
 },
 "nbformat": 4,
 "nbformat_minor": 5
}
