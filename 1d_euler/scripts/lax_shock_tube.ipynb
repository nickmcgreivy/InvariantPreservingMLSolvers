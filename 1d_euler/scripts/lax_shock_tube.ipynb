{
 "cells": [
  {
   "cell_type": "code",
   "execution_count": null,
   "id": "02022f35",
   "metadata": {},
   "outputs": [],
   "source": [
    "# setup paths\n",
    "import sys\n",
    "basedir = '/Users/nickm/thesis/icml2023paper/1d_euler'\n",
    "readwritedir = '/Users/nickm/thesis/icml2023paper/1d_euler'\n",
    "\n",
    "sys.path.append('{}/core'.format(basedir))\n",
    "sys.path.append('{}/simulate'.format(basedir))\n",
    "sys.path.append('{}/ml'.format(basedir))"
   ]
  },
  {
   "cell_type": "code",
   "execution_count": null,
   "id": "55da58f6",
   "metadata": {},
   "outputs": [],
   "source": [
    "# import external packages\n",
    "import jax\n",
    "import jax.numpy as jnp\n",
    "import numpy as onp\n",
    "from jax import config, vmap\n",
    "config.update(\"jax_enable_x64\", True)\n",
    "import xarray\n",
    "import seaborn as sns\n",
    "import matplotlib.pyplot as plt"
   ]
  },
  {
   "cell_type": "code",
   "execution_count": null,
   "id": "69f67f26",
   "metadata": {},
   "outputs": [],
   "source": [
    "from initialconditions import get_a0, f_init_lax_shock_tube, shock_tube_problem_1, density_propagation\n",
    "from simparams import CoreParams, SimulationParams\n",
    "from simulations import ShockTubeSim\n",
    "from helper import get_rho, get_u, get_p\n",
    "from trajectory import get_trajectory_fn, get_inner_fn"
   ]
  },
  {
   "cell_type": "code",
   "execution_count": null,
   "id": "189c389d",
   "metadata": {},
   "outputs": [],
   "source": [
    "def get_core_params(Lx = 1.0, gamma = 5/3, bc = 'periodic', fluxstr = 'laxfriedrichs'):\n",
    "    return CoreParams(Lx, gamma, bc, fluxstr)\n",
    "\n",
    "\n",
    "def get_sim_params(name = \"test\", cfl_safety=0.3, rk='ssp_rk3'):\n",
    "    return SimulationParams(name, basedir, readwritedir, cfl_safety, rk)\n",
    "\n",
    "\n",
    "def plot_a(a, core_params, mins = [0.0 - 2e-2] * 3, maxs= [1.0 + 5e-2] * 3):\n",
    "    x = jnp.linspace(0.0, core_params.Lx, a.shape[1])\n",
    "    \n",
    "    fig, axs = plt.subplots(1, 3, figsize=(11, 3))\n",
    "    axs[0].plot(x, get_rho(a, core_params))\n",
    "    axs[0].set_title(r'$\\rho$')\n",
    "    axs[0].set_ylim([mins[0], maxs[0]])\n",
    "    \n",
    "    axs[1].plot(x, get_u(a, core_params))\n",
    "    axs[1].set_title(r'$u$')\n",
    "    axs[1].set_ylim([mins[1], maxs[1]])\n",
    "    \n",
    "    axs[2].plot(x, get_p(a, core_params))\n",
    "    axs[2].set_title(r'$p$')\n",
    "    axs[2].set_ylim([mins[2], maxs[2]])"
   ]
  },
  {
   "cell_type": "markdown",
   "id": "1dab1c6d",
   "metadata": {},
   "source": [
    "### Shock Tube Problem 1\n",
    "\n",
    "JE2: http://ammar-hakim.org/sj/je/je2/je2-euler-shock.html"
   ]
  },
  {
   "cell_type": "code",
   "execution_count": null,
   "id": "e8aedc62",
   "metadata": {},
   "outputs": [],
   "source": [
    "kwargs_core_params = {'Lx': 1.0, 'gamma': 1.4, 'bc': 'ghost', 'fluxstr': 'roe'}\n",
    "kwargs_sim = {'name' : \"test_euler\", 'cfl_safety' : 0.9, 'rk' : 'ssp_rk3'}\n",
    "\n",
    "core_params = get_core_params(**kwargs_core_params)\n",
    "sim_params = get_sim_params(**kwargs_sim)\n",
    "sim = ShockTubeSim(core_params, sim_params)\n",
    "\n",
    "nx = 100\n",
    "f_init = shock_tube_problem_1(core_params)\n",
    "a0 = get_a0(f_init, core_params, nx)\n",
    "\n",
    "# simulate for some time\n",
    "t_inner = 0.2\n",
    "outer_steps = 2\n",
    "\n",
    "inner_fn = get_inner_fn(sim.step_fn, sim.dt_fn, t_inner)\n",
    "trajectory_fn = get_trajectory_fn(inner_fn, outer_steps)\n",
    "trajectory = trajectory_fn(a0)"
   ]
  },
  {
   "cell_type": "code",
   "execution_count": null,
   "id": "c571517b",
   "metadata": {},
   "outputs": [],
   "source": [
    "maxs = [1.1, 1.5, 1.1]\n",
    "plot_a(a0, core_params, maxs=maxs)\n",
    "plot_a(trajectory[-1], core_params, maxs=maxs)"
   ]
  },
  {
   "cell_type": "markdown",
   "id": "4a329342",
   "metadata": {},
   "source": [
    "### Density Propagation\n",
    "\n",
    "Initialize the density to be a higher value, with constant speed and pressure, and see what happens."
   ]
  },
  {
   "cell_type": "code",
   "execution_count": null,
   "id": "c484ed72",
   "metadata": {},
   "outputs": [],
   "source": [
    "kwargs_core_params = {'Lx': 1.0, 'gamma': 1.4, 'bc': 'periodic', 'fluxstr': 'laxfriedrichs'}\n",
    "kwargs_sim = {'name' : \"test_euler\", 'cfl_safety' : 0.95, 'rk' : 'forward_euler'}\n",
    "\n",
    "core_params = get_core_params(**kwargs_core_params)\n",
    "sim_params = get_sim_params(**kwargs_sim)\n",
    "sim = ShockTubeSim(core_params, sim_params)\n",
    "\n",
    "nx = 100\n",
    "f_init = density_propagation(core_params)\n",
    "a0 = get_a0(f_init, core_params, nx)\n",
    "\n",
    "# simulate for some time\n",
    "t_inner = 0.1\n",
    "outer_steps = 4\n",
    "\n",
    "inner_fn = get_inner_fn(sim.step_fn, sim.dt_fn, t_inner)\n",
    "trajectory_fn = get_trajectory_fn(inner_fn, outer_steps)\n",
    "trajectory = trajectory_fn(a0)"
   ]
  },
  {
   "cell_type": "code",
   "execution_count": null,
   "id": "efbb0d17",
   "metadata": {},
   "outputs": [],
   "source": [
    "plot_a(a0, core_params)\n",
    "plot_a(trajectory[-1], core_params)"
   ]
  },
  {
   "cell_type": "code",
   "execution_count": null,
   "id": "376e0b98",
   "metadata": {},
   "outputs": [],
   "source": []
  }
 ],
 "metadata": {
  "kernelspec": {
   "display_name": "Python 3 (ipykernel)",
   "language": "python",
   "name": "python3"
  },
  "language_info": {
   "codemirror_mode": {
    "name": "ipython",
    "version": 3
   },
   "file_extension": ".py",
   "mimetype": "text/x-python",
   "name": "python",
   "nbconvert_exporter": "python",
   "pygments_lexer": "ipython3",
   "version": "3.7.13"
  }
 },
 "nbformat": 4,
 "nbformat_minor": 5
}
