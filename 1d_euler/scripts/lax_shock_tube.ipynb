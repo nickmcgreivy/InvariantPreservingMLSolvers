{
 "cells": [
  {
   "cell_type": "code",
   "execution_count": null,
   "id": "02022f35",
   "metadata": {},
   "outputs": [],
   "source": [
    "# setup paths\n",
    "import sys\n",
    "basedir = '/Users/nickm/thesis/icml2023paper/1d_euler'\n",
    "readwritedir = '/Users/nickm/thesis/icml2023paper/1d_euler'\n",
    "\n",
    "sys.path.append('{}/core'.format(basedir))\n",
    "sys.path.append('{}/simulate'.format(basedir))\n",
    "sys.path.append('{}/ml'.format(basedir))"
   ]
  },
  {
   "cell_type": "code",
   "execution_count": null,
   "id": "55da58f6",
   "metadata": {},
   "outputs": [],
   "source": [
    "# import external packages\n",
    "import jax\n",
    "import jax.numpy as jnp\n",
    "import numpy as onp\n",
    "from jax import config, vmap\n",
    "config.update(\"jax_enable_x64\", True)\n",
    "import xarray\n",
    "import seaborn as sns\n",
    "import matplotlib.pyplot as plt"
   ]
  },
  {
   "cell_type": "code",
   "execution_count": null,
   "id": "69f67f26",
   "metadata": {},
   "outputs": [],
   "source": [
    "from initialconditions import get_a0, f_init_lax_shock_tube\n",
    "from simparams import CoreParams\n",
    "from helper import get_rho, get_u, get_p"
   ]
  },
  {
   "cell_type": "code",
   "execution_count": null,
   "id": "189c389d",
   "metadata": {},
   "outputs": [],
   "source": [
    "def get_core_params(Lx = 1.0, gamma = 5/3, bc = 'periodic', fluxstr = 'laxfriedrichs'):\n",
    "    return CoreParams(Lx, gamma, bc, fluxstr)\n",
    "\n",
    "\n",
    "\n",
    "def plot_a(a, core_params):\n",
    "    fig, axs = plt.subplots(1, 3, figsize=(11, 3))\n",
    "    axs[0].plot(get_rho(a, core_params))\n",
    "    axs[0].set_title(r'$\\rho$')\n",
    "    \n",
    "    axs[1].plot(get_u(a, core_params))\n",
    "    axs[1].set_title(r'$u$')\n",
    "    \n",
    "    axs[2].plot(get_p(a, core_params))\n",
    "    axs[2].set_title(r'$p$')"
   ]
  },
  {
   "cell_type": "code",
   "execution_count": null,
   "id": "0a7878ba",
   "metadata": {},
   "outputs": [],
   "source": [
    "kwargs_core_params = {'Lx': 10.0, 'gamma': 1.4, 'bc': 'ghost', 'fluxstr': 'laxfriedrichs'}\n",
    "\n",
    "core_params = get_core_params(**kwargs_core_params)\n",
    "f_init = f_init_lax_shock_tube(core_params)"
   ]
  },
  {
   "cell_type": "code",
   "execution_count": null,
   "id": "8bb70820",
   "metadata": {},
   "outputs": [],
   "source": [
    "nx = 100\n",
    "a0 = get_a0(f_init, core_params, nx)"
   ]
  },
  {
   "cell_type": "code",
   "execution_count": null,
   "id": "829abd8d",
   "metadata": {},
   "outputs": [],
   "source": [
    "plot_a(a0, core_params)"
   ]
  },
  {
   "cell_type": "code",
   "execution_count": null,
   "id": "e8aedc62",
   "metadata": {},
   "outputs": [],
   "source": []
  }
 ],
 "metadata": {
  "kernelspec": {
   "display_name": "Python 3 (ipykernel)",
   "language": "python",
   "name": "python3"
  },
  "language_info": {
   "codemirror_mode": {
    "name": "ipython",
    "version": 3
   },
   "file_extension": ".py",
   "mimetype": "text/x-python",
   "name": "python",
   "nbconvert_exporter": "python",
   "pygments_lexer": "ipython3",
   "version": "3.7.13"
  }
 },
 "nbformat": 4,
 "nbformat_minor": 5
}
