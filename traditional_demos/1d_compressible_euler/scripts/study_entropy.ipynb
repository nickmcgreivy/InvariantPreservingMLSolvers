{
 "cells": [
  {
   "cell_type": "code",
   "execution_count": null,
   "id": "b9ae3ad7",
   "metadata": {},
   "outputs": [],
   "source": [
    "# setup paths\n",
    "import sys\n",
    "basedir = '/Users/nickm/thesis/InvariantPreservingMLSolvers/traditional_demos/1d_compressible_euler'\n",
    "readwritedir = '/Users/nickm/thesis/InvariantPreservingMLSolvers/traditional_demos/1d_compressible_euler'\n",
    "\n",
    "sys.path.append('{}/core'.format(basedir))\n",
    "sys.path.append('{}/simulate'.format(basedir))\n",
    "sys.path.append('{}/ml'.format(basedir))"
   ]
  },
  {
   "cell_type": "code",
   "execution_count": null,
   "id": "d267f344",
   "metadata": {},
   "outputs": [],
   "source": [
    "# import external packages\n",
    "import jax\n",
    "import jax.numpy as jnp\n",
    "import numpy as onp\n",
    "from jax import config, vmap\n",
    "config.update(\"jax_enable_x64\", True)\n",
    "import xarray\n",
    "import seaborn as sns\n",
    "import matplotlib.pyplot as plt"
   ]
  },
  {
   "cell_type": "code",
   "execution_count": null,
   "id": "e8da8f16",
   "metadata": {},
   "outputs": [],
   "source": [
    "from initialconditions import get_a0, f_init_lax_shock_tube, shock_tube_problem_1, shock_tube_problem_2, shock_tube_problem_3, shock_tube_problem_4, shock_tube_problem_5, shock_tube_problem_6, shock_tube_problem_7, shock_tube_problem_8\n",
    "from simparams import CoreParams, SimulationParams\n",
    "from simulations import EulerFVSim\n",
    "from helper import get_rho, get_u, get_p, get_entropy, get_w\n",
    "from trajectory import get_trajectory_fn, get_inner_fn"
   ]
  },
  {
   "cell_type": "code",
   "execution_count": null,
   "id": "14f48d1a",
   "metadata": {},
   "outputs": [],
   "source": [
    "def get_core_params(Lx = 1.0, gamma = 5/3, bc = 'periodic', fluxstr = 'laxfriedrichs'):\n",
    "    return CoreParams(Lx, gamma, bc, fluxstr)\n",
    "\n",
    "\n",
    "def get_sim_params(name = \"test\", cfl_safety=0.3, rk='ssp_rk3'):\n",
    "    return SimulationParams(name, basedir, readwritedir, cfl_safety, rk)\n",
    "\n",
    "\n",
    "def plot_a(a, core_params, mins = [0.0 - 2e-2] * 3, maxs= [1.0 + 5e-2] * 3):\n",
    "    x = jnp.linspace(0.0, core_params.Lx, a.shape[1])\n",
    "    \n",
    "    fig, axs = plt.subplots(1, 3, figsize=(11, 3))\n",
    "    axs[0].plot(x, get_rho(a, core_params))\n",
    "    axs[0].set_title(r'$\\rho$')\n",
    "    axs[0].set_ylim([mins[0], maxs[0]])\n",
    "    \n",
    "    axs[1].plot(x, get_u(a, core_params))\n",
    "    axs[1].set_title(r'$u$')\n",
    "    axs[1].set_ylim([mins[1], maxs[1]])\n",
    "    \n",
    "    axs[2].plot(x, get_p(a, core_params))\n",
    "    axs[2].set_title(r'$p$')\n",
    "    axs[2].set_ylim([mins[2], maxs[2]])\n",
    "\n",
    "def plot_trajectory(trajectory, core_params, mins = [0.0 - 2e-2] * 3, maxs= [1.0 + 5e-2] * 3):\n",
    "    nx = trajectory.shape[2]\n",
    "    xs = jnp.arange(nx) * core_params.Lx / nx\n",
    "    xs = xs.T.reshape(-1)\n",
    "    coords = {\n",
    "        'x': xs,\n",
    "        'time': t_inner * jnp.arange(trajectory.shape[0])\n",
    "    }\n",
    "    rhos = trajectory[:, 0, :]\n",
    "    xarray.DataArray(rhos, dims=[\"time\", \"x\"], coords=coords).plot(\n",
    "        col='time', col_wrap=5)\n",
    "\n",
    "    us = trajectory[:, 1, :] / trajectory[:, 0, :]\n",
    "    xarray.DataArray(us, dims=[\"time\", \"x\"], coords=coords).plot(\n",
    "        col='time', col_wrap=5)\n",
    "\n",
    "    ps = (core_params.gamma - 1) * (trajectory[:, 2, :] - 0.5 * trajectory[:, 1, :]**2 / trajectory[:, 0, :])\n",
    "    xarray.DataArray(ps, dims=[\"time\", \"x\"], coords=coords).plot(\n",
    "        col='time', col_wrap=5)"
   ]
  },
  {
   "cell_type": "code",
   "execution_count": null,
   "id": "ed9ba6b7",
   "metadata": {},
   "outputs": [],
   "source": [
    "kwargs_core_params = {'Lx': 1.0, 'gamma': 1.4, 'bc': 'periodic', 'fluxstr': 'musclcharacteristic'}\n",
    "kwargs_sim = {'name' : \"test_euler\", 'cfl_safety' : 0.1, 'rk' : 'ssp_rk3'}\n",
    "\n",
    "core_params = get_core_params(**kwargs_core_params)\n",
    "sim_params = get_sim_params(**kwargs_sim)\n",
    "sim = EulerFVSim(core_params, sim_params, deta_dt_ratio = None, G = None)\n",
    "\n",
    "nx = 400\n",
    "f_init = shock_tube_problem_1(core_params)\n",
    "a0 = get_a0(f_init, core_params, nx)\n",
    "\n",
    "# simulate for some time\n",
    "t_inner = 0.1\n",
    "outer_steps = 5\n",
    "ratio = 2.0 \n",
    "\n",
    "\n",
    "inner_fn = get_inner_fn(sim.step_fn, sim.dt_fn, t_inner)\n",
    "trajectory_fn = get_trajectory_fn(inner_fn, outer_steps)\n",
    "trajectory = trajectory_fn(a0)"
   ]
  },
  {
   "cell_type": "code",
   "execution_count": null,
   "id": "27463872",
   "metadata": {},
   "outputs": [],
   "source": [
    "def G0(a, core_params):\n",
    "    w = get_w(a, core_params)\n",
    "    return jnp.roll(w, -1, axis=-1) - w\n",
    "\n",
    "sim0 = EulerFVSim(core_params, sim_params, deta_dt_ratio = ratio, G = lambda a: G0(a, core_params))\n",
    "inner_fn0 = get_inner_fn(sim0.step_fn, sim0.dt_fn, t_inner)\n",
    "trajectory_fn0 = get_trajectory_fn(inner_fn0, outer_steps)\n",
    "trajectory0 = trajectory_fn0(a0)"
   ]
  },
  {
   "cell_type": "code",
   "execution_count": null,
   "id": "2f802ada",
   "metadata": {},
   "outputs": [],
   "source": [
    "def G3(a, core_params):\n",
    "    return jnp.roll(a, -1, axis=-1) - a\n",
    "\n",
    "sim3 = EulerFVSim(core_params, sim_params, deta_dt_ratio = ratio, G = lambda a: G3(a, core_params))\n",
    "inner_fn3 = get_inner_fn(sim3.step_fn, sim3.dt_fn, t_inner)\n",
    "trajectory_fn3 = get_trajectory_fn(inner_fn3, outer_steps)\n",
    "trajectory3 = trajectory_fn3(a0)"
   ]
  },
  {
   "cell_type": "code",
   "execution_count": null,
   "id": "5daf433d",
   "metadata": {},
   "outputs": [],
   "source": [
    "def G4(a, core_params):\n",
    "    p = get_p(a, core_params)\n",
    "    rho = a[0]\n",
    "    u = a[1] / a[0]\n",
    "    G = jnp.concatenate([rho[None], u[None], p[None]],axis=0)\n",
    "    return jnp.roll(G, -1, axis=-1) - G\n",
    "\n",
    "sim4 = EulerFVSim(core_params, sim_params, deta_dt_ratio = ratio, G = lambda a: G4(a, core_params))\n",
    "inner_fn4 = get_inner_fn(sim4.step_fn, sim4.dt_fn, t_inner)\n",
    "trajectory_fn4 = get_trajectory_fn(inner_fn4, outer_steps)\n",
    "trajectory4 = trajectory_fn4(a0)"
   ]
  },
  {
   "cell_type": "code",
   "execution_count": null,
   "id": "1d1a3e61",
   "metadata": {
    "scrolled": true
   },
   "outputs": [],
   "source": [
    "maxs = [1.1, 1.5, 1.1]\n",
    "print(\"normal\")\n",
    "plot_trajectory(trajectory, core_params, maxs=maxs)\n",
    "plt.show()\n",
    "print(\"diffuse w\")\n",
    "plot_trajectory(trajectory0, core_params, maxs=maxs)\n",
    "plt.show()\n",
    "print(\"diffuse a\")\n",
    "plot_trajectory(trajectory3, core_params, maxs=maxs)\n",
    "plt.show()\n",
    "print(\"diffuse conserved\")\n",
    "plot_trajectory(trajectory4, core_params, maxs=maxs)\n",
    "plt.show()"
   ]
  },
  {
   "cell_type": "markdown",
   "id": "ae57fdee",
   "metadata": {},
   "source": [
    "### Plot entropy over time\n",
    "\n",
    "The entropy for the Euler equations is $$s=\\log(p/\\rho^\\gamma).$$\n",
    "\n",
    "Consider the generalized entropy function $$h(s) = \\rho g(s).$$ So long as $$\\frac{d^2 g}{ds^2} / \\frac{dg}{ds} < \\frac{1}{\\gamma}$$ then $h$ satisfies an entropy conservation law. Some otions for $g(s)$ include $g(s) = s$ as well as $g(s) = e^{\\frac{s}{\\gamma + 1}}$."
   ]
  },
  {
   "cell_type": "code",
   "execution_count": null,
   "id": "a33cb584",
   "metadata": {},
   "outputs": [],
   "source": [
    "vmap_get_entropy = vmap(lambda a: get_entropy(a, core_params))\n",
    "\n",
    "\n",
    "dx = core_params.Lx / trajectory.shape[2]\n",
    "\n",
    "entropy = vmap_get_entropy(trajectory) * dx\n",
    "total_entropy = jnp.sum(entropy, axis=1) \n",
    "\n",
    "entropy0 = vmap_get_entropy(trajectory0) * dx\n",
    "total_entropy0 = jnp.sum(entropy0, axis=1) \n",
    "\n",
    "entropy3 = vmap_get_entropy(trajectory3) * dx\n",
    "total_entropy3 = jnp.sum(entropy3, axis=1) \n",
    "\n",
    "entropy4 = vmap_get_entropy(trajectory4) * dx\n",
    "total_entropy4 = jnp.sum(entropy4, axis=1) "
   ]
  },
  {
   "cell_type": "code",
   "execution_count": null,
   "id": "c27b5a21",
   "metadata": {},
   "outputs": [],
   "source": [
    "plt.plot(total_entropy, color=\"green\")\n",
    "plt.plot(total_entropy0, color=\"blue\")\n",
    "plt.plot(total_entropy3, color=\"red\")\n",
    "plt.plot(total_entropy4, color=\"orange\")"
   ]
  },
  {
   "cell_type": "code",
   "execution_count": null,
   "id": "12f19bed",
   "metadata": {},
   "outputs": [],
   "source": [
    "print(trajectory.shape)\n",
    "print(jnp.sum(trajectory[:,:],axis=(-1)) * dx)"
   ]
  },
  {
   "cell_type": "markdown",
   "id": "845f95b9",
   "metadata": {},
   "source": [
    "### Non-Periodic Boundary Conditions"
   ]
  },
  {
   "cell_type": "code",
   "execution_count": null,
   "id": "177a39bc",
   "metadata": {},
   "outputs": [],
   "source": [
    "kwargs_core_params = {'Lx': 1.0, 'gamma': 1.4, 'bc': 'ghost', 'fluxstr': 'musclcharacteristic'}\n",
    "kwargs_sim = {'name' : \"test_euler\", 'cfl_safety' : 0.1, 'rk' : 'ssp_rk3'}\n",
    "\n",
    "core_params = get_core_params(**kwargs_core_params)\n",
    "sim_params = get_sim_params(**kwargs_sim)\n",
    "sim = EulerFVSim(core_params, sim_params, deta_dt_ratio = None, G = None)\n",
    "\n",
    "nx = 400\n",
    "f_init = shock_tube_problem_1(core_params)\n",
    "a0 = get_a0(f_init, core_params, nx)\n",
    "\n",
    "# simulate for some time\n",
    "t_inner = 0.1\n",
    "outer_steps = 3\n",
    "ratio = 0.0"
   ]
  },
  {
   "cell_type": "code",
   "execution_count": null,
   "id": "5a841587",
   "metadata": {},
   "outputs": [],
   "source": []
  },
  {
   "cell_type": "code",
   "execution_count": null,
   "id": "ad3ffe3b",
   "metadata": {},
   "outputs": [],
   "source": [
    "def G0(a, core_params):\n",
    "    # lambda (3, nx) -> (3, nx-1)\n",
    "    w = get_w(a, core_params)\n",
    "    return (w[:,1:] - w[:,:-1])\n",
    "\n",
    "sim0 = EulerFVSim(core_params, sim_params, deta_dt_ratio = ratio, G = lambda a: G0(a, core_params))\n",
    "inner_fn0 = get_inner_fn(sim0.step_fn, sim0.dt_fn, t_inner)\n",
    "trajectory_fn0 = get_trajectory_fn(inner_fn0, outer_steps)\n",
    "trajectory0 = trajectory_fn0(a0)"
   ]
  },
  {
   "cell_type": "code",
   "execution_count": null,
   "id": "5e3ebeea",
   "metadata": {},
   "outputs": [],
   "source": [
    "def G3(a, core_params):\n",
    "    return a[:,1:] - a[:,:-1]\n",
    "\n",
    "sim3 = EulerFVSim(core_params, sim_params, deta_dt_ratio = ratio, G = lambda a: G3(a, core_params))\n",
    "inner_fn3 = get_inner_fn(sim3.step_fn, sim3.dt_fn, t_inner)\n",
    "trajectory_fn3 = get_trajectory_fn(inner_fn3, outer_steps)\n",
    "trajectory3 = trajectory_fn3(a0)"
   ]
  },
  {
   "cell_type": "code",
   "execution_count": null,
   "id": "c830c042",
   "metadata": {},
   "outputs": [],
   "source": [
    "def G4(a, core_params):\n",
    "    p = get_p(a, core_params)\n",
    "    rho = a[0]\n",
    "    zeros = jnp.zeros(rho.shape)\n",
    "    u = a[1] / a[0]\n",
    "    G = jnp.concatenate([rho[None], u[None], p[None]],axis=0)\n",
    "    return G[:,1:] - G[:,:-1]\n",
    "\n",
    "sim4 = EulerFVSim(core_params, sim_params, deta_dt_ratio = ratio, G = lambda a: G4(a, core_params))\n",
    "inner_fn4 = get_inner_fn(sim4.step_fn, sim4.dt_fn, t_inner)\n",
    "trajectory_fn4 = get_trajectory_fn(inner_fn4, outer_steps)\n",
    "trajectory4 = trajectory_fn4(a0)"
   ]
  },
  {
   "cell_type": "code",
   "execution_count": null,
   "id": "c26c059e",
   "metadata": {},
   "outputs": [],
   "source": [
    "maxs = [1.1, 1.5, 1.1]\n",
    "print(\"normal\")\n",
    "plot_trajectory(trajectory, core_params, maxs=maxs)\n",
    "plt.show()\n",
    "print(\"diffuse w\")\n",
    "plot_trajectory(trajectory0, core_params, maxs=maxs)\n",
    "plt.show()\n",
    "print(\"diffuse a\")\n",
    "plot_trajectory(trajectory3, core_params, maxs=maxs)\n",
    "plt.show()\n",
    "print(\"diffuse primitive\")\n",
    "plot_trajectory(trajectory4, core_params, maxs=maxs)\n",
    "plt.show()"
   ]
  },
  {
   "cell_type": "code",
   "execution_count": null,
   "id": "88b73559",
   "metadata": {},
   "outputs": [],
   "source": [
    "vmap_get_entropy = vmap(lambda a: get_entropy(a, core_params))\n",
    "\n",
    "\n",
    "dx = core_params.Lx / trajectory.shape[2]\n",
    "\n",
    "entropy = vmap_get_entropy(trajectory) * dx\n",
    "total_entropy = jnp.sum(entropy, axis=1) \n",
    "\n",
    "entropy0 = vmap_get_entropy(trajectory0) * dx\n",
    "total_entropy0 = jnp.sum(entropy0, axis=1) \n",
    "\n",
    "entropy3 = vmap_get_entropy(trajectory3) * dx\n",
    "total_entropy3 = jnp.sum(entropy3, axis=1) \n",
    "\n",
    "entropy4 = vmap_get_entropy(trajectory4) * dx\n",
    "total_entropy4 = jnp.sum(entropy4, axis=1) "
   ]
  },
  {
   "cell_type": "code",
   "execution_count": null,
   "id": "216ef17f",
   "metadata": {},
   "outputs": [],
   "source": [
    "plt.plot(total_entropy, color=\"green\")\n",
    "plt.plot(total_entropy0, color=\"blue\")\n",
    "plt.plot(total_entropy3, color=\"red\")\n",
    "plt.plot(total_entropy4, color=\"orange\")"
   ]
  },
  {
   "cell_type": "code",
   "execution_count": null,
   "id": "e703e32c",
   "metadata": {},
   "outputs": [],
   "source": [
    "print(trajectory.shape)\n",
    "print(jnp.sum(trajectory[:,:],axis=(-1)) * dx)\n",
    "print(jnp.sum(trajectory0[:,:],axis=(-1)) * dx)\n",
    "print(jnp.sum(trajectory3[:,:],axis=(-1)) * dx)\n",
    "print(jnp.sum(trajectory4[:,:],axis=(-1)) * dx)"
   ]
  },
  {
   "cell_type": "code",
   "execution_count": null,
   "id": "d7d5652c",
   "metadata": {},
   "outputs": [],
   "source": []
  }
 ],
 "metadata": {
  "kernelspec": {
   "display_name": "Python 3 (ipykernel)",
   "language": "python",
   "name": "python3"
  },
  "language_info": {
   "codemirror_mode": {
    "name": "ipython",
    "version": 3
   },
   "file_extension": ".py",
   "mimetype": "text/x-python",
   "name": "python",
   "nbconvert_exporter": "python",
   "pygments_lexer": "ipython3",
   "version": "3.7.13"
  }
 },
 "nbformat": 4,
 "nbformat_minor": 5
}
