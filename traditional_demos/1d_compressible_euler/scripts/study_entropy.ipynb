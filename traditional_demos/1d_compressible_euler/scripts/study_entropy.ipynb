{
 "cells": [
  {
   "cell_type": "code",
   "execution_count": null,
   "id": "b9ae3ad7",
   "metadata": {},
   "outputs": [],
   "source": [
    "# setup paths\n",
    "import sys\n",
    "basedir = '/Users/nickm/thesis/InvariantPreservingMLSolvers/traditional_demos/1d_compressible_euler'\n",
    "readwritedir = '/Users/nickm/thesis/InvariantPreservingMLSolvers/traditional_demos/1d_compressible_euler'\n",
    "\n",
    "sys.path.append('{}/core'.format(basedir))\n",
    "sys.path.append('{}/simulate'.format(basedir))\n",
    "sys.path.append('{}/ml'.format(basedir))"
   ]
  },
  {
   "cell_type": "code",
   "execution_count": null,
   "id": "d267f344",
   "metadata": {},
   "outputs": [],
   "source": [
    "# import external packages\n",
    "import jax\n",
    "import jax.numpy as jnp\n",
    "import numpy as onp\n",
    "from jax import config, vmap\n",
    "config.update(\"jax_enable_x64\", True)\n",
    "import xarray\n",
    "import seaborn as sns\n",
    "import matplotlib.pyplot as plt"
   ]
  },
  {
   "cell_type": "code",
   "execution_count": null,
   "id": "e8da8f16",
   "metadata": {},
   "outputs": [],
   "source": [
    "from initialconditions import get_a0, f_init_lax_shock_tube, shock_tube_problem_1, shock_tube_problem_2, shock_tube_problem_3, shock_tube_problem_4, shock_tube_problem_5, shock_tube_problem_6, shock_tube_problem_7, shock_tube_problem_8\n",
    "from simparams import CoreParams, SimulationParams\n",
    "from simulations import EulerFVSim\n",
    "from helper import get_rho, get_u, get_p, get_entropy\n",
    "from trajectory import get_trajectory_fn, get_inner_fn"
   ]
  },
  {
   "cell_type": "code",
   "execution_count": null,
   "id": "14f48d1a",
   "metadata": {},
   "outputs": [],
   "source": [
    "def get_core_params(Lx = 1.0, gamma = 5/3, bc = 'periodic', fluxstr = 'laxfriedrichs'):\n",
    "    return CoreParams(Lx, gamma, bc, fluxstr)\n",
    "\n",
    "\n",
    "def get_sim_params(name = \"test\", cfl_safety=0.3, rk='ssp_rk3'):\n",
    "    return SimulationParams(name, basedir, readwritedir, cfl_safety, rk)\n",
    "\n",
    "\n",
    "def plot_a(a, core_params, mins = [0.0 - 2e-2] * 3, maxs= [1.0 + 5e-2] * 3):\n",
    "    x = jnp.linspace(0.0, core_params.Lx, a.shape[1])\n",
    "    \n",
    "    fig, axs = plt.subplots(1, 3, figsize=(11, 3))\n",
    "    axs[0].plot(x, get_rho(a, core_params))\n",
    "    axs[0].set_title(r'$\\rho$')\n",
    "    axs[0].set_ylim([mins[0], maxs[0]])\n",
    "    \n",
    "    axs[1].plot(x, get_u(a, core_params))\n",
    "    axs[1].set_title(r'$u$')\n",
    "    axs[1].set_ylim([mins[1], maxs[1]])\n",
    "    \n",
    "    axs[2].plot(x, get_p(a, core_params))\n",
    "    axs[2].set_title(r'$p$')\n",
    "    axs[2].set_ylim([mins[2], maxs[2]])\n",
    "\n",
    "def plot_trajectory(trajectory, core_params, mins = [0.0 - 2e-2] * 3, maxs= [1.0 + 5e-2] * 3):\n",
    "    nx = trajectory.shape[2]\n",
    "    xs = jnp.arange(nx) * core_params.Lx / nx\n",
    "    xs = xs.T.reshape(-1)\n",
    "    coords = {\n",
    "        'x': xs,\n",
    "        'time': t_inner * jnp.arange(trajectory.shape[0])\n",
    "    }\n",
    "    rhos = trajectory[:, 0, :]\n",
    "    xarray.DataArray(rhos, dims=[\"time\", \"x\"], coords=coords).plot(\n",
    "        col='time', col_wrap=5)\n",
    "\n",
    "    us = trajectory[:, 1, :] / trajectory[:, 0, :]\n",
    "    xarray.DataArray(us, dims=[\"time\", \"x\"], coords=coords).plot(\n",
    "        col='time', col_wrap=5)\n",
    "\n",
    "    ps = (core_params.gamma - 1) * (trajectory[:, 2, :] - 0.5 * trajectory[:, 1, :]**2 / trajectory[:, 0, :])\n",
    "    xarray.DataArray(ps, dims=[\"time\", \"x\"], coords=coords).plot(\n",
    "        col='time', col_wrap=5)"
   ]
  },
  {
   "cell_type": "code",
   "execution_count": null,
   "id": "ed9ba6b7",
   "metadata": {},
   "outputs": [],
   "source": [
    "kwargs_core_params = {'Lx': 1.0, 'gamma': 1.4, 'bc': 'ghost', 'fluxstr': 'musclcharacteristic'}\n",
    "kwargs_sim = {'name' : \"test_euler\", 'cfl_safety' : 0.2, 'rk' : 'ssp_rk3'}\n",
    "\n",
    "core_params = get_core_params(**kwargs_core_params)\n",
    "sim_params = get_sim_params(**kwargs_sim)\n",
    "sim = EulerFVSim(core_params, sim_params)\n",
    "\n",
    "\n",
    "nx = 400\n",
    "f_init = shock_tube_problem_1(core_params)\n",
    "a0 = get_a0(f_init, core_params, nx)\n",
    "\n",
    "# simulate for some time\n",
    "t_inner = 0.1\n",
    "outer_steps = 10\n",
    "\n",
    "inner_fn = get_inner_fn(sim.step_fn, sim.dt_fn, t_inner)\n",
    "trajectory_fn = get_trajectory_fn(inner_fn, outer_steps)\n",
    "trajectory = trajectory_fn(a0)"
   ]
  },
  {
   "cell_type": "code",
   "execution_count": null,
   "id": "1d1a3e61",
   "metadata": {},
   "outputs": [],
   "source": [
    "maxs = [1.1, 1.5, 1.1]\n",
    "plot_trajectory(trajectory, core_params, maxs=maxs)"
   ]
  },
  {
   "cell_type": "markdown",
   "id": "ae57fdee",
   "metadata": {},
   "source": [
    "### Plot entropy over time\n",
    "\n",
    "The entropy for the Euler equations is $$s=\\log(p/\\rho^\\gamma).$$\n",
    "\n",
    "Consider the generalized entropy function $$h(s) = \\rho g(s).$$ So long as $$\\frac{d^2 g}{ds^2} / \\frac{dg}{ds} < \\frac{1}{\\gamma}$$ then $h$ satisfies an entropy conservation law. Some otions for $g(s)$ include $g(s) = s$ as well as $g(s) = e^{\\frac{s}{\\gamma + 1}}$."
   ]
  },
  {
   "cell_type": "code",
   "execution_count": null,
   "id": "a33cb584",
   "metadata": {},
   "outputs": [],
   "source": [
    "vmap_get_entropy = vmap(lambda a: get_entropy(a, core_params))\n",
    "\n",
    "N_ave = 1\n",
    "\n",
    "Nt, _, nx = trajectory.shape\n",
    "assert nx % N_ave == 0\n",
    "downsampled_trajectory = jnp.mean(trajectory.reshape(Nt, 3, nx//N_ave, N_ave), axis=-1)\n",
    "\n",
    "dx = core_params.Lx / downsampled_trajectory.shape[2]\n",
    "\n",
    "entropy = vmap_get_entropy(downsampled_trajectory) * dx\n",
    "total_entropy = jnp.sum(entropy, axis=1) "
   ]
  },
  {
   "cell_type": "code",
   "execution_count": null,
   "id": "c27b5a21",
   "metadata": {},
   "outputs": [],
   "source": [
    "plt.plot(total_entropy)"
   ]
  },
  {
   "cell_type": "code",
   "execution_count": null,
   "id": "c62270bd",
   "metadata": {},
   "outputs": [],
   "source": [
    "plt.plot((jnp.sum(trajectory[:,2],axis=-1) * dx))\n",
    "print(jnp.sum(trajectory[:,2],axis=-1) * dx)"
   ]
  },
  {
   "cell_type": "code",
   "execution_count": null,
   "id": "90572a82",
   "metadata": {},
   "outputs": [],
   "source": [
    "plt.plot(jnp.sum(trajectory[:,2,1:-1],axis=-1) * dx)"
   ]
  },
  {
   "cell_type": "code",
   "execution_count": null,
   "id": "b11f6b43",
   "metadata": {},
   "outputs": [],
   "source": [
    "plt.plot(jnp.sum(trajectory[:,0,1:-1],axis=-1) * dx)"
   ]
  },
  {
   "cell_type": "code",
   "execution_count": null,
   "id": "12f19bed",
   "metadata": {},
   "outputs": [],
   "source": [
    "print(trajectory.shape)\n",
    "print(jnp.sum(trajectory[:,0,:],axis=-1) * dx)\n",
    "print(jnp.sum(trajectory[:,1,:],axis=-1) * dx)\n",
    "print(jnp.sum(trajectory[:,2,:],axis=-1) * dx)"
   ]
  }
 ],
 "metadata": {
  "kernelspec": {
   "display_name": "Python 3 (ipykernel)",
   "language": "python",
   "name": "python3"
  },
  "language_info": {
   "codemirror_mode": {
    "name": "ipython",
    "version": 3
   },
   "file_extension": ".py",
   "mimetype": "text/x-python",
   "name": "python",
   "nbconvert_exporter": "python",
   "pygments_lexer": "ipython3",
   "version": "3.7.13"
  }
 },
 "nbformat": 4,
 "nbformat_minor": 5
}
