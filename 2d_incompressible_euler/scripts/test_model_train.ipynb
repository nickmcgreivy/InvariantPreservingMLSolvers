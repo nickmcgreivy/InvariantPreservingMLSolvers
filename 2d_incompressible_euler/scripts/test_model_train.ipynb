{
 "cells": [
  {
   "cell_type": "code",
   "execution_count": null,
   "id": "4fad4d85",
   "metadata": {},
   "outputs": [],
   "source": [
    "import sys\n",
    "sys.path.append('/Users/nickm/thesis/InvariantPreservingMLSolvers/2d_incompressible_euler/ml')\n",
    "sys.path.append('/Users/nickm/thesis/InvariantPreservingMLSolvers/2d_incompressible_euler/baselines')\n",
    "sys.path.append('/Users/nickm/thesis/InvariantPreservingMLSolvers/2d_incompressible_euler/simulate')"
   ]
  },
  {
   "cell_type": "code",
   "execution_count": null,
   "id": "0856c83d",
   "metadata": {},
   "outputs": [],
   "source": [
    "import jax\n",
    "import jax.numpy as jnp\n",
    "from jax import config\n",
    "config.update(\"jax_enable_x64\", True)\n",
    "import xarray\n",
    "import seaborn as sns\n",
    "import matplotlib.pyplot as plt\n",
    "\n",
    "from initialconditions import init_fn_FNO, init_fn_jax_cfd\n",
    "from simulations import KolmogorovFiniteVolumeSimulation\n",
    "from simparams import FiniteVolumeSimulationParams\n",
    "\n",
    "from helper import convert_FV_representation\n",
    "from trajectory import get_trajectory_fn\n",
    "from flux import Flux"
   ]
  },
  {
   "cell_type": "code",
   "execution_count": null,
   "id": "2f509a16",
   "metadata": {},
   "outputs": [],
   "source": [
    "from model import LearnedFlux2D\n",
    "from mlparams import ModelParams, TrainingParams\n",
    "from trainingutils import init_params, save_training_data"
   ]
  },
  {
   "cell_type": "code",
   "execution_count": null,
   "id": "ff94d78d",
   "metadata": {},
   "outputs": [],
   "source": [
    "def plot_fv(zeta, sim_params): \n",
    "    nx = zeta.shape[0]\n",
    "    spatial_coord = jnp.arange(nx) * sim_params.Lx / nx # same for x and y\n",
    "    coords = {\n",
    "      'x': spatial_coord,\n",
    "      'y': spatial_coord,\n",
    "    }\n",
    "    xarray.DataArray(zeta, dims=[\"x\", \"y\"], coords=coords).plot.imshow(cmap=sns.cm.icefire, robust=True)\n",
    "\n",
    "def plot_trajectory_fv(trajectory, sim_params):\n",
    "    nx = trajectory.shape[1]\n",
    "    spatial_coord = jnp.arange(nx) * sim_params.Lx / sim_params.nx # same for x and y\n",
    "    coords = {\n",
    "      'x': spatial_coord,\n",
    "      'y': spatial_coord,\n",
    "        'time': sim_params.dt * sim_params.inner_steps * jnp.arange(outer_steps)\n",
    "    }\n",
    "    xarray.DataArray(trajectory, dims=[\"time\", \"x\", \"y\"], coords=coords).plot.imshow(\n",
    "        col='time', col_wrap=5, \n",
    "        cmap=sns.cm.icefire, robust=True)\n",
    "\n",
    "def get_sim_params(nx, ny):\n",
    "    name = \"test\"\n",
    "    basedir = \"/Users/nickm/thesis/InvariantPreservingMLSolvers/2d_incompressible_euler\"\n",
    "    readwritedir = \"/Users/nickm/thesis/InvariantPreservingMLSolvers/2d_incompressible_euler\"\n",
    "    Lx = Ly = 2 * jnp.pi\n",
    "    cfl_safety=0.3\n",
    "    rk='ssp_rk3'\n",
    "    flux=Flux.VANLEER\n",
    "    global_stabilization=False\n",
    "    return FiniteVolumeSimulationParams(name, basedir, readwritedir, nx, ny, Lx, Ly, cfl_safety, rk, flux, global_stabilization)\n",
    "\n",
    "def get_simulation(sim_params, model=None, params=None):\n",
    "    viscosity=1/1000\n",
    "    forcing_coeff=1.0\n",
    "    drag=0.1\n",
    "    return KolmogorovFiniteVolumeSimulation(sim_params, viscosity, forcing_coeff, drag, model=model, params=params)\n",
    "\n",
    "def get_trajectory(sim_params, v0):\n",
    "    v_init = convert_FV_representation(v0, sim_params)\n",
    "    sim = get_simulation(sim_params)\n",
    "    rollout_fn = get_trajectory_fn(sim.step_fn, outer_steps)\n",
    "    return rollout_fn(v_init)\n",
    "\n",
    "def get_ml_params():\n",
    "    unique_id = \"test\"\n",
    "    batch_size=4\n",
    "    learning_rate=1e-3\n",
    "    num_epochs = 10\n",
    "    kernel_size = 5\n",
    "    depth = 4\n",
    "    width = 16\n",
    "    return ModelParams(unique_id, batch_size, learning_rate, num_epochs, kernel_size, depth, width)\n",
    "\n",
    "def get_model():\n",
    "    model_params = get_ml_params()\n",
    "    return LearnedFlux2D(model_params)"
   ]
  },
  {
   "cell_type": "code",
   "execution_count": null,
   "id": "79e1dd54",
   "metadata": {},
   "outputs": [],
   "source": [
    "model = get_model()\n",
    "params = init_params(jax.random.PRNGKey(0), model)"
   ]
  },
  {
   "cell_type": "code",
   "execution_count": null,
   "id": "2b03d3aa",
   "metadata": {},
   "outputs": [],
   "source": [
    "nx_exact = ny_exact = 128\n",
    "sim_params_exact = get_sim_params(nx_exact, ny_exact)\n",
    "outer_steps = 10\n",
    "n_runs = 5\n",
    "t_inner = 0.1\n",
    "nxs = [32, 64]\n",
    "nxs_all = [32, 64]\n",
    "sim_params_ds = []\n",
    "simulations_ds = []\n",
    "for nx in nxs:\n",
    "    sim_params = get_sim_params(nx, nx)\n",
    "    sim_params_ds.append(sim_params)\n",
    "    simulations_ds.append(get_simulation(sim_params))\n",
    "sim_params_ds_all = []\n",
    "for nx in nxs_all:\n",
    "    sim_params_ds_all.append(get_sim_params(nx, nx))\n",
    "key_data = jax.random.PRNGKey(0)"
   ]
  },
  {
   "cell_type": "code",
   "execution_count": null,
   "id": "4346e004",
   "metadata": {},
   "outputs": [],
   "source": [
    "########\n",
    "# Test generate data\n",
    "########\n",
    "simulation_exact = get_simulation(sim_params_exact)\n",
    "save_training_data(key_data, sim_params_exact, simulation_exact, t_inner, outer_steps, n_runs, sim_params_ds, simulations_ds, max_velocity=7.0, ic_wavenumber=2)"
   ]
  },
  {
   "cell_type": "code",
   "execution_count": null,
   "id": "59eb8f4f",
   "metadata": {},
   "outputs": [],
   "source": [
    "########\n",
    "# TEST TRAIN MODEL\n",
    "########"
   ]
  },
  {
   "cell_type": "code",
   "execution_count": null,
   "id": "0b2dd76d",
   "metadata": {},
   "outputs": [],
   "source": [
    "from trainingutils import get_loss_fn, get_batch_fn, get_idx_gen, train_model, compute_losses_no_model"
   ]
  },
  {
   "cell_type": "code",
   "execution_count": null,
   "id": "b0e94257",
   "metadata": {},
   "outputs": [],
   "source": [
    "key = jax.random.PRNGKey(42)\n",
    "n_data = n_runs * outer_steps\n",
    "ml_params = get_ml_params()\n",
    "model = get_model()\n",
    "\n",
    "i_params = init_params(key, model)\n",
    "\n",
    "params_list = []\n",
    "\n",
    "\n",
    "for sim_params in sim_params_ds:\n",
    "    idx_fn = lambda key: get_idx_gen(key, ml_params, n_data)\n",
    "    batch_fn = get_batch_fn(sim_params, n_data)\n",
    "    loss_fn = get_loss_fn(model, sim_params)\n",
    "    losses, params = train_model(model, i_params, key, idx_fn, batch_fn, loss_fn)\n",
    "    plt.plot(losses)\n",
    "    params_list.append(params)\n",
    "\n",
    "for sim_params in sim_params_ds_all:\n",
    "    idx_fn = lambda key: jnp.arange(n_data)\n",
    "    batch_fn = get_batch_fn(sim_params, n_data)\n",
    "    loss_fn = get_loss_fn(None, sim_params)\n",
    "    loss = compute_losses_no_model(key, idx_fn, batch_fn, loss_fn)\n",
    "    print(loss)\n",
    "    plt.plot([0,len(losses)], [loss, loss], 'k-', lw=2)\n",
    "    \n",
    "plt.show()"
   ]
  },
  {
   "cell_type": "markdown",
   "id": "4309f4a9",
   "metadata": {},
   "source": [
    "## Test that training gives dadt which is more accurate than VanLeer flux"
   ]
  },
  {
   "cell_type": "code",
   "execution_count": null,
   "id": "a2568fe8",
   "metadata": {},
   "outputs": [],
   "source": [
    "nx = 32\n",
    "model = get_model()\n",
    "params = params_list[0]\n",
    "\n",
    "key_test = key_data\n",
    "\n",
    "_, subkey = jax.random.split(key_test)\n",
    "\n",
    "vorticity0 = init_fn_jax_cfd(subkey, sim_params_exact, 7.0, 2)\n",
    "\n",
    "#simulation_exact = get_simulation(sim_params_exact)\n",
    "\n",
    "sim_params_vanleer = get_sim_params(nx, nx)\n",
    "simulation_vanleer = get_simulation(sim_params_vanleer)\n",
    "\n",
    "convert_fn = lambda v: convert_FV_representation(v, sim_params_vanleer)\n",
    "vorticity_ds = convert_fn(vorticity0)\n",
    "\n",
    "dadt_vanleer = jax.jit(simulation_vanleer.F)(vorticity_ds)\n",
    "dadt_model = jax.jit(lambda a: simulation_vanleer.F_params(a, model, params))(vorticity_ds)\n",
    "dadt_exact = jax.jit(simulation_exact.F)(vorticity0)\n",
    "dadt_exact_ds = convert_fn(dadt_exact)\n",
    "\n",
    "\n",
    "plot_fv(vorticity0, sim_params_exact)\n",
    "plt.show()\n",
    "plot_fv(vorticity_ds, sim_params_vanleer)\n",
    "plt.show()\n",
    "\n",
    "plot_fv(dadt_vanleer - dadt_exact_ds, sim_params_vanleer)\n",
    "print(jnp.mean((dadt_vanleer - dadt_exact_ds)**2))\n",
    "plt.show()\n",
    "plot_fv(dadt_model - dadt_exact_ds, sim_params_vanleer)\n",
    "print(jnp.mean((dadt_model - dadt_exact_ds)**2))\n",
    "plt.show()"
   ]
  },
  {
   "cell_type": "code",
   "execution_count": null,
   "id": "dd13c246",
   "metadata": {},
   "outputs": [],
   "source": [
    "plt.plot(losses)"
   ]
  }
 ],
 "metadata": {
  "kernelspec": {
   "display_name": "Python 3 (ipykernel)",
   "language": "python",
   "name": "python3"
  },
  "language_info": {
   "codemirror_mode": {
    "name": "ipython",
    "version": 3
   },
   "file_extension": ".py",
   "mimetype": "text/x-python",
   "name": "python",
   "nbconvert_exporter": "python",
   "pygments_lexer": "ipython3",
   "version": "3.7.13"
  }
 },
 "nbformat": 4,
 "nbformat_minor": 5
}
