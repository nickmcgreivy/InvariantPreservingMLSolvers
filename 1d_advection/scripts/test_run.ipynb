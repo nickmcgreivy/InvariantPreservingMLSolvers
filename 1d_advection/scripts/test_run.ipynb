{
 "cells": [
  {
   "cell_type": "code",
   "execution_count": null,
   "id": "d480f15e",
   "metadata": {},
   "outputs": [],
   "source": [
    "import sys\n",
    "sys.path.append('/Users/nickm/thesis/icml2023paper/1d_advection/core')\n",
    "sys.path.append('/Users/nickm/thesis/icml2023paper/1d_advection/simulate')\n",
    "sys.path.append('/Users/nickm/thesis/icml2023paper/1d_advection/ml')\n",
    "\n",
    "basedir = '/Users/nickm/thesis/icml2023paper/1d_advection'\n",
    "readwritedir = '/Users/nickm/thesis/icml2023paper/1d_advection'"
   ]
  },
  {
   "cell_type": "code",
   "execution_count": null,
   "id": "c5086ce3",
   "metadata": {},
   "outputs": [],
   "source": [
    "import jax\n",
    "import jax.numpy as jnp\n",
    "from jax import config, vmap\n",
    "config.update(\"jax_enable_x64\", True)\n",
    "import xarray\n",
    "import seaborn as sns\n",
    "import matplotlib.pyplot as plt"
   ]
  },
  {
   "cell_type": "code",
   "execution_count": null,
   "id": "7d9d17b5",
   "metadata": {},
   "outputs": [],
   "source": [
    "from initialconditions import get_a0, get_initial_condition_fn\n",
    "from simparams import CoreParams, CoreParamsDG, SimulationParams\n",
    "from legendre import generate_legendre\n",
    "from simulations import AdvectionFVSim, AdvectionDGSim\n",
    "from trajectory import get_trajectory_fn, get_inner_fn\n",
    "from trainingutils import save_training_data"
   ]
  },
  {
   "cell_type": "code",
   "execution_count": null,
   "id": "1237af61",
   "metadata": {},
   "outputs": [],
   "source": [
    "def plot_fv(a, core_params): \n",
    "    nx = a.shape[0]\n",
    "    spatial_coord = jnp.arange(nx) * core_params.Lx / nx # same for x and y\n",
    "    coords = {'x': spatial_coord}\n",
    "    xarray.DataArray(a, dims=['x'], coords=coords).plot(aspect=3, size=1.5)\n",
    "\n",
    "def plot_fv_trajectory(trajectory, core_params, t_inner):\n",
    "    outer_steps, nx = trajectory.shape[0:2]\n",
    "    spatial_coord = jnp.arange(nx) * core_params.Lx / nx # same for x and y\n",
    "    coords = {\n",
    "      'x': spatial_coord,\n",
    "        'time': t_inner * jnp.arange(outer_steps)\n",
    "    }\n",
    "    xarray.DataArray(trajectory, dims=[\"time\", \"x\"], coords=coords).plot(\n",
    "        col='time', col_wrap=5)\n",
    "    \n",
    "def plot_dg(a, core_params, color='blue'):\n",
    "    def evalf(x, a, j, dx, leg_poly):\n",
    "        x_j = dx * (0.5 + j)\n",
    "        xi = (x - x_j) / (0.5 * dx)\n",
    "        vmap_polyval = vmap(jnp.polyval, (0, None), -1)\n",
    "        poly_eval = vmap_polyval(leg_poly, xi)  # nx, p array\n",
    "        return jnp.sum(poly_eval * a, axis=-1)\n",
    "\n",
    "    NPLOT = [1,2,5,7][core_params.order]\n",
    "    nx = a.shape[0]\n",
    "    dx = core_params.Lx / nx\n",
    "    xjs = jnp.arange(nx) * core_params.Lx / nx\n",
    "    xs = xjs[None, :] + jnp.linspace(0.0, dx, NPLOT)[:, None]\n",
    "    vmap_eval = vmap(evalf, (1, 0, 0, None, None), 1)\n",
    "\n",
    "    a_plot = vmap_eval(xs, a, jnp.arange(nx), dx, generate_legendre(core_params.order+1))\n",
    "    a_plot = a_plot.T.reshape(-1)\n",
    "    xs = xs.T.reshape(-1)\n",
    "    coords = {('x'): xs}\n",
    "    data = xarray.DataArray(a_plot, coords=coords)\n",
    "    data.plot(color=color)\n",
    "\n",
    "def plot_dg_trajectory(trajectory, core_params, t_inner, color='blue'):\n",
    "    NPLOT = [1,2,5,7][core_params.order]\n",
    "    nx = trajectory.shape[1]\n",
    "    dx = core_params.Lx / nx\n",
    "    xjs = jnp.arange(nx) * core_params.Lx / nx\n",
    "    xs = xjs[None, :] + jnp.linspace(0.0, dx, NPLOT)[:, None]\n",
    "    \n",
    "    def get_plot_repr(a):\n",
    "        def evalf(x, a, j, dx, leg_poly):\n",
    "            x_j = dx * (0.5 + j)\n",
    "            xi = (x - x_j) / (0.5 * dx)\n",
    "            vmap_polyval = vmap(jnp.polyval, (0, None), -1)\n",
    "            poly_eval = vmap_polyval(leg_poly, xi)  # nx, p array\n",
    "            return jnp.sum(poly_eval * a, axis=-1)\n",
    "\n",
    "        vmap_eval = vmap(evalf, (1, 0, 0, None, None), 1)\n",
    "        return vmap_eval(xs, a, jnp.arange(nx), dx, generate_legendre(core_params.order+1)).T\n",
    "\n",
    "    get_trajectory_plot_repr = vmap(get_plot_repr)\n",
    "    trajectory_plot = get_trajectory_plot_repr(trajectory)\n",
    "\n",
    "    outer_steps = trajectory.shape[0]\n",
    "    \n",
    "    trajectory_plot = trajectory_plot.reshape(outer_steps, -1)\n",
    "    xs = xs.T.reshape(-1)\n",
    "    coords = {\n",
    "        'x': xs,\n",
    "        'time': t_inner * jnp.arange(outer_steps)\n",
    "    }\n",
    "    xarray.DataArray(trajectory_plot, dims=[\"time\", \"x\"], coords=coords).plot(\n",
    "        col='time', col_wrap=5)\n",
    "    \n",
    "\n",
    "def get_core_params(order, flux='upwind'):\n",
    "    Lx = 1.0\n",
    "    if order == 0:\n",
    "        return CoreParams(Lx, flux)\n",
    "    else:\n",
    "        return CoreParamsDG(Lx, flux, order)\n",
    "\n",
    "def get_sim_params(name = \"test\", cfl_safety=0.3, rk='ssp_rk3', gs=False):\n",
    "    return SimulationParams(name, basedir, readwritedir, cfl_safety, rk, gs)"
   ]
  },
  {
   "cell_type": "code",
   "execution_count": null,
   "id": "7d940350",
   "metadata": {},
   "outputs": [],
   "source": [
    "### test IC for DG\n",
    "nx = 5\n",
    "order = 1\n",
    "key = jax.random.PRNGKey(15)\n",
    "core_params = get_core_params(order)\n",
    "f_init = get_initial_condition_fn(core_params, 'sum_sin', key=key)\n",
    "a0 = get_a0(f_init, core_params, nx)\n",
    "\n",
    "print(a0.shape)\n",
    "\n",
    "plot_dg(a0, core_params, color='blue')"
   ]
  },
  {
   "cell_type": "code",
   "execution_count": null,
   "id": "0cd4f6f7",
   "metadata": {},
   "outputs": [],
   "source": [
    "#### test IC for FV\n",
    "nx = 100\n",
    "key = jax.random.PRNGKey(15)\n",
    "core_params = get_core_params(0)\n",
    "f_init = get_initial_condition_fn(core_params, 'sum_sin', key=key)\n",
    "a0 = get_a0(f_init, core_params, nx)\n",
    "\n",
    "plot_fv(a0, core_params)"
   ]
  },
  {
   "cell_type": "code",
   "execution_count": null,
   "id": "2da1a4d0",
   "metadata": {},
   "outputs": [],
   "source": [
    "##### test simulate FV\n",
    "\n",
    "nx = 50\n",
    "key = jax.random.PRNGKey(2)\n",
    "f_init = get_initial_condition_fn(core_params, 'sum_sin', key=key)\n",
    "a0 = get_a0(f_init, core_params, nx)\n",
    "\n",
    "t_inner = 0.1\n",
    "outer_steps = 11\n",
    "core_params = get_core_params(0, flux='muscl')\n",
    "sim_params = get_sim_params()\n",
    "sim = AdvectionFVSim(core_params, sim_params)\n",
    "inner_fn = get_inner_fn(sim.step_fn, sim.dt_fn, t_inner)\n",
    "trajectory_fn = get_trajectory_fn(inner_fn, outer_steps)\n",
    "\n",
    "trajectory = trajectory_fn(a0)\n",
    "plot_fv_trajectory(trajectory, core_params, t_inner)"
   ]
  },
  {
   "cell_type": "code",
   "execution_count": null,
   "id": "543547a9",
   "metadata": {},
   "outputs": [],
   "source": [
    "##### test simulate DG\n",
    "\n",
    "nx = 50\n",
    "order = 1\n",
    "key = jax.random.PRNGKey(15)\n",
    "core_params = get_core_params(order)\n",
    "\n",
    "f_init = get_initial_condition_fn(core_params, 'sin', key=key)\n",
    "a0 = get_a0(f_init, core_params, nx)\n",
    "\n",
    "\n",
    "t_inner = 0.1\n",
    "outer_steps = 11\n",
    "core_params = get_core_params(order, flux='centered')\n",
    "sim_params = get_sim_params(cfl_safety=0.3)\n",
    "sim = AdvectionDGSim(core_params, sim_params)\n",
    "inner_fn = get_inner_fn(sim.step_fn, sim.dt_fn, t_inner)\n",
    "trajectory_fn = get_trajectory_fn(inner_fn, outer_steps)\n",
    "\n",
    "trajectory = trajectory_fn(a0)\n",
    "plot_dg_trajectory(trajectory, core_params, t_inner)"
   ]
  },
  {
   "cell_type": "code",
   "execution_count": null,
   "id": "53ee70d0",
   "metadata": {},
   "outputs": [],
   "source": [
    "### generate data FV (1 timestep at a time)\n",
    "\n",
    "nx_exact = 128\n",
    "nxs = 8, 16, 32, 64\n",
    "n_runs = 5\n",
    "\n",
    "core_params = get_core_params(0, flux='muscl')\n",
    "sim_params = get_sim_params()\n",
    "sim = AdvectionFVSim(core_params, sim_params)\n",
    "\n",
    "kwargs = {'min_num_modes': 1, 'max_num_modes': 6, 'min_k': 1, 'max_k': 4, 'amplitude_max': 1.0}\n",
    "init_fn = lambda key: get_initial_condition_fn(core_params, 'sum_sin', key=key, **kwargs)\n",
    "\n",
    "t_inner_train = 0.02\n",
    "outer_steps_train = int(1.0/t_inner_train)"
   ]
  },
  {
   "cell_type": "code",
   "execution_count": null,
   "id": "14450246",
   "metadata": {},
   "outputs": [],
   "source": [
    "key = jax.random.PRNGKey(12)\n",
    "save_training_data(key, init_fn, core_params, sim_params, sim, t_inner_train, outer_steps_train, n_runs, nx_exact, nxs, **kwargs)"
   ]
  },
  {
   "cell_type": "code",
   "execution_count": null,
   "id": "77aa6fcb",
   "metadata": {},
   "outputs": [],
   "source": [
    "### generate data DG (1 timestep at a time)\n",
    "\n",
    "nx_exact = 32\n",
    "nxs = 4, 6, 8, 16\n",
    "p_exact = 2\n",
    "\n",
    "n_runs = 5\n",
    "\n",
    "\n",
    "core_params = get_core_params(p_exact, flux='upwind')\n",
    "sim_params = get_sim_params()\n",
    "sim = AdvectionDGSim(core_params, sim_params)\n",
    "\n",
    "kwargs = {'min_num_modes': 1, 'max_num_modes': 6, 'min_k': 1, 'max_k': 4, 'amplitude_max': 1.0}\n",
    "init_fn = lambda key: get_initial_condition_fn(core_params, 'sum_sin', key=key, **kwargs)\n",
    "\n",
    "t_inner_train = 0.02\n",
    "outer_steps_train = int(1.0/t_inner_train)"
   ]
  },
  {
   "cell_type": "code",
   "execution_count": null,
   "id": "260b1a4c",
   "metadata": {},
   "outputs": [],
   "source": [
    "key = jax.random.PRNGKey(12)\n",
    "save_training_data(key, init_fn, core_params, sim_params, sim, t_inner_train, outer_steps_train, n_runs, nx_exact, nxs, **kwargs)"
   ]
  },
  {
   "cell_type": "code",
   "execution_count": null,
   "id": "f71841ad",
   "metadata": {},
   "outputs": [],
   "source": [
    "### train FV model (1 timestep at a time)\n",
    "from trainingutils import get_loss_fn, get_batch_fn, get_idx_gen, train_model, compute_losses_no_model"
   ]
  },
  {
   "cell_type": "code",
   "execution_count": null,
   "id": "f68b22a2",
   "metadata": {},
   "outputs": [],
   "source": []
  },
  {
   "cell_type": "code",
   "execution_count": null,
   "id": "63abf7f3",
   "metadata": {},
   "outputs": [],
   "source": [
    "### train DG model (1 timestep at a time)"
   ]
  },
  {
   "cell_type": "code",
   "execution_count": null,
   "id": "a810eb23",
   "metadata": {},
   "outputs": [],
   "source": [
    "### test success of FV model"
   ]
  },
  {
   "cell_type": "code",
   "execution_count": null,
   "id": "76a1d3e1",
   "metadata": {},
   "outputs": [],
   "source": [
    "### test success of DG model"
   ]
  }
 ],
 "metadata": {
  "kernelspec": {
   "display_name": "Python 3 (ipykernel)",
   "language": "python",
   "name": "python3"
  },
  "language_info": {
   "codemirror_mode": {
    "name": "ipython",
    "version": 3
   },
   "file_extension": ".py",
   "mimetype": "text/x-python",
   "name": "python",
   "nbconvert_exporter": "python",
   "pygments_lexer": "ipython3",
   "version": "3.7.13"
  }
 },
 "nbformat": 4,
 "nbformat_minor": 5
}
